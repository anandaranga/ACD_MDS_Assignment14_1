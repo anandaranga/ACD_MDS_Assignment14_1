{
 "cells": [
  {
   "cell_type": "markdown",
   "metadata": {},
   "source": [
    "## ACD MDS Assignment 14 (SQL -2)\n",
    "### Mar 2018 batch - Student: K. Anandaranga"
   ]
  },
  {
   "cell_type": "code",
   "execution_count": 1,
   "metadata": {},
   "outputs": [],
   "source": [
    "#Read the following data set:\n",
    "#https://archive.ics.uci.edu/ml/machine-learning-databases/adult/adult.data\n",
    "#Task:\n",
    "#1. Create an sqlalchemy engine using a sample from the data set\n",
    "#2. Write two basic update queries\n",
    "#3. Write two delete queries\n",
    "#4. Write two filter queries\n",
    "#5. Write two function queries"
   ]
  },
  {
   "cell_type": "code",
   "execution_count": 2,
   "metadata": {},
   "outputs": [],
   "source": [
    "import numpy as np\n",
    "import pandas as pd\n",
    "import sqlite3 as db\n",
    "\n",
    "from pandasql import sqldf\n",
    "\n",
    "import sqlalchemy\n",
    "from sqlalchemy import create_engine\n",
    "engine = create_engine('sqlite:///:memory:', echo=False)\n",
    "\n",
    "#from sqlalchemy.orm import sessionmaker\n",
    "#Session = sessionmaker(bind=engine)\n",
    "#session = Session()"
   ]
  },
  {
   "cell_type": "code",
   "execution_count": 3,
   "metadata": {},
   "outputs": [],
   "source": [
    "df = pd.read_csv('https://archive.ics.uci.edu/ml/machine-learning-databases/adult/adult.data', header = None)\n",
    "df.columns = ['age', 'workclass', 'fnlwgt', 'education', 'education-num', 'marital-status', 'occupation', 'relationship', 'race', 'sex', 'capital-gain', 'capital-loss', 'hours-per-week', 'native-country', 'Above_Below_50K_year']\n",
    "\n",
    "df.to_sql ('sqladb', con=engine , if_exists=\"replace\")"
   ]
  },
  {
   "cell_type": "code",
   "execution_count": null,
   "metadata": {},
   "outputs": [],
   "source": []
  },
  {
   "cell_type": "code",
   "execution_count": 4,
   "metadata": {},
   "outputs": [
    {
     "data": {
      "text/plain": [
       "[(0, 39, ' State-gov', 77516, ' Bachelors', 13, ' Never-married', ' Adm-clerical', ' Not-in-family', ' White', ' Male', 2174, 0, 40, ' United-States', ' <=50K'),\n",
       " (1, 50, ' Self-emp-not-inc', 83311, ' Bachelors', 13, ' Married-civ-spouse', ' Exec-managerial', ' Husband', ' White', ' Male', 0, 0, 13, ' United-States', ' <=50K'),\n",
       " (2, 38, ' Private', 215646, ' HS-grad', 9, ' Divorced', ' Handlers-cleaners', ' Not-in-family', ' White', ' Male', 0, 0, 40, ' United-States', ' <=50K'),\n",
       " (3, 53, ' Private', 234721, ' 11th', 7, ' Married-civ-spouse', ' Handlers-cleaners', ' Husband', ' Black', ' Male', 0, 0, 40, ' United-States', ' <=50K'),\n",
       " (4, 28, ' Private', 338409, ' Bachelors', 13, ' Married-civ-spouse', ' Prof-specialty', ' Wife', ' Black', ' Female', 0, 0, 40, ' Cuba', ' <=50K'),\n",
       " (5, 37, ' Private', 284582, ' Masters', 14, ' Married-civ-spouse', ' Exec-managerial', ' Wife', ' White', ' Female', 0, 0, 40, ' United-States', ' <=50K'),\n",
       " (6, 49, ' Private', 160187, ' 9th', 5, ' Married-spouse-absent', ' Other-service', ' Not-in-family', ' Black', ' Female', 0, 0, 16, ' Jamaica', ' <=50K'),\n",
       " (7, 52, ' Self-emp-not-inc', 209642, ' HS-grad', 9, ' Married-civ-spouse', ' Exec-managerial', ' Husband', ' White', ' Male', 0, 0, 45, ' United-States', ' >50K'),\n",
       " (8, 31, ' Private', 45781, ' Masters', 14, ' Never-married', ' Prof-specialty', ' Not-in-family', ' White', ' Female', 14084, 0, 50, ' United-States', ' >50K'),\n",
       " (9, 42, ' Private', 159449, ' Bachelors', 13, ' Married-civ-spouse', ' Exec-managerial', ' Husband', ' White', ' Male', 5178, 0, 40, ' United-States', ' >50K')]"
      ]
     },
     "execution_count": 4,
     "metadata": {},
     "output_type": "execute_result"
    }
   ],
   "source": [
    "#1. Create an sqlalchemy engine using a sample from the data set\n",
    "\n",
    "engine.execute(\"SELECT * FROM sqladb LIMIT 10\").fetchall()"
   ]
  },
  {
   "cell_type": "code",
   "execution_count": 5,
   "metadata": {},
   "outputs": [
    {
     "data": {
      "text/html": [
       "<div>\n",
       "<style>\n",
       "    .dataframe thead tr:only-child th {\n",
       "        text-align: right;\n",
       "    }\n",
       "\n",
       "    .dataframe thead th {\n",
       "        text-align: left;\n",
       "    }\n",
       "\n",
       "    .dataframe tbody tr th {\n",
       "        vertical-align: top;\n",
       "    }\n",
       "</style>\n",
       "<table border=\"1\" class=\"dataframe\">\n",
       "  <thead>\n",
       "    <tr style=\"text-align: right;\">\n",
       "      <th></th>\n",
       "      <th>education</th>\n",
       "      <th>count</th>\n",
       "    </tr>\n",
       "  </thead>\n",
       "  <tbody>\n",
       "    <tr>\n",
       "      <th>0</th>\n",
       "      <td>HS-grad</td>\n",
       "      <td>10501</td>\n",
       "    </tr>\n",
       "    <tr>\n",
       "      <th>1</th>\n",
       "      <td>Some-college</td>\n",
       "      <td>7291</td>\n",
       "    </tr>\n",
       "    <tr>\n",
       "      <th>2</th>\n",
       "      <td>Bachelors</td>\n",
       "      <td>5355</td>\n",
       "    </tr>\n",
       "    <tr>\n",
       "      <th>3</th>\n",
       "      <td>Masters</td>\n",
       "      <td>1723</td>\n",
       "    </tr>\n",
       "    <tr>\n",
       "      <th>4</th>\n",
       "      <td>Assoc-voc</td>\n",
       "      <td>1382</td>\n",
       "    </tr>\n",
       "    <tr>\n",
       "      <th>5</th>\n",
       "      <td>11th</td>\n",
       "      <td>1175</td>\n",
       "    </tr>\n",
       "    <tr>\n",
       "      <th>6</th>\n",
       "      <td>Assoc-acdm</td>\n",
       "      <td>1067</td>\n",
       "    </tr>\n",
       "    <tr>\n",
       "      <th>7</th>\n",
       "      <td>10th</td>\n",
       "      <td>933</td>\n",
       "    </tr>\n",
       "    <tr>\n",
       "      <th>8</th>\n",
       "      <td>7th-8th</td>\n",
       "      <td>646</td>\n",
       "    </tr>\n",
       "    <tr>\n",
       "      <th>9</th>\n",
       "      <td>Prof-school</td>\n",
       "      <td>576</td>\n",
       "    </tr>\n",
       "    <tr>\n",
       "      <th>10</th>\n",
       "      <td>9th</td>\n",
       "      <td>514</td>\n",
       "    </tr>\n",
       "    <tr>\n",
       "      <th>11</th>\n",
       "      <td>12th</td>\n",
       "      <td>433</td>\n",
       "    </tr>\n",
       "    <tr>\n",
       "      <th>12</th>\n",
       "      <td>Doctorate</td>\n",
       "      <td>413</td>\n",
       "    </tr>\n",
       "    <tr>\n",
       "      <th>13</th>\n",
       "      <td>5th-6th</td>\n",
       "      <td>333</td>\n",
       "    </tr>\n",
       "    <tr>\n",
       "      <th>14</th>\n",
       "      <td>1st-4th</td>\n",
       "      <td>168</td>\n",
       "    </tr>\n",
       "    <tr>\n",
       "      <th>15</th>\n",
       "      <td>Preschool</td>\n",
       "      <td>51</td>\n",
       "    </tr>\n",
       "  </tbody>\n",
       "</table>\n",
       "</div>"
      ],
      "text/plain": [
       "        education  count\n",
       "0         HS-grad  10501\n",
       "1    Some-college   7291\n",
       "2       Bachelors   5355\n",
       "3         Masters   1723\n",
       "4       Assoc-voc   1382\n",
       "5            11th   1175\n",
       "6      Assoc-acdm   1067\n",
       "7            10th    933\n",
       "8         7th-8th    646\n",
       "9     Prof-school    576\n",
       "10            9th    514\n",
       "11           12th    433\n",
       "12      Doctorate    413\n",
       "13        5th-6th    333\n",
       "14        1st-4th    168\n",
       "15      Preschool     51"
      ]
     },
     "execution_count": 5,
     "metadata": {},
     "output_type": "execute_result"
    }
   ],
   "source": [
    "# In prep for Q2, first get the breakdown of one of the column values\n",
    "\n",
    "out3_1 = engine.execute(\"SELECT [education], count(*) as cnt FROM sqladb GROUP BY [education] order  by cnt DESC\").fetchall()\n",
    "#out\n",
    "\n",
    "df3_1 = pd.DataFrame.from_dict(out3_1)\n",
    "df3_1.columns = (\"education\", \"count\")\n",
    "df3_1\n",
    "\n",
    "# Notice the 2 values - Preschool and Doctorate"
   ]
  },
  {
   "cell_type": "code",
   "execution_count": 6,
   "metadata": {},
   "outputs": [
    {
     "data": {
      "text/plain": [
       "[(' HS-grad', 10501),\n",
       " (' Some-college', 7291),\n",
       " (' Bachelors', 5355),\n",
       " (' Masters', 1723),\n",
       " (' Assoc-voc', 1382),\n",
       " (' 11th', 1175),\n",
       " (' Assoc-acdm', 1067),\n",
       " (' 10th', 933),\n",
       " (' 7th-8th', 646),\n",
       " (' Prof-school', 576),\n",
       " (' 9th', 514),\n",
       " (' 12th', 433),\n",
       " ('PhD', 413),\n",
       " (' 5th-6th', 333),\n",
       " (' 1st-4th', 168),\n",
       " ('nonsense', 51)]"
      ]
     },
     "execution_count": 6,
     "metadata": {},
     "output_type": "execute_result"
    }
   ],
   "source": [
    "#2. Write two basic update queries\n",
    "\n",
    "engine.execute (\"UPDATE sqladb SET [education] = 'nonsense' WHERE [education] =' Preschool'\")  # Update the education status of \"Preschool\" to read something else\n",
    "\n",
    "engine.execute (\"UPDATE sqladb SET [education] = 'PhD' WHERE [education] =' Doctorate'\") # Update the category of \"Doctorate\" to be something else\n",
    "\n",
    "out3_1 = engine.execute(\"SELECT [education], count(*) as cnt FROM sqladb GROUP BY [education] order  by cnt DESC\").fetchall()  # Select query to validate the changes\n",
    "out3_1\n",
    "\n",
    "# Note the categories for Preschool and Doctorate are now changed"
   ]
  },
  {
   "cell_type": "code",
   "execution_count": 7,
   "metadata": {},
   "outputs": [
    {
     "data": {
      "text/plain": [
       "<sqlalchemy.engine.result.ResultProxy at 0x20791697a58>"
      ]
     },
     "execution_count": 7,
     "metadata": {},
     "output_type": "execute_result"
    }
   ],
   "source": [
    "#3. Write two delete queries\n",
    "# Again, now deleting the records pertaining to these two categories in the 'education' column\n",
    "\n",
    "engine.execute (\"DELETE from sqladb WHERE [education] = ' nonsense'\")\n",
    "\n",
    "engine.execute (\"DELETE from sqladb WHERE [education] = ' PhD'\")\n"
   ]
  },
  {
   "cell_type": "code",
   "execution_count": 8,
   "metadata": {},
   "outputs": [
    {
     "data": {
      "text/plain": [
       "[(0,)]"
      ]
     },
     "execution_count": 8,
     "metadata": {},
     "output_type": "execute_result"
    }
   ],
   "source": [
    "engine.execute(\"SELECT count(*) FROM sqladb WHERE [education] = ' nonsense'\").fetchall() # to verify that the records don't exist anymore"
   ]
  },
  {
   "cell_type": "code",
   "execution_count": 9,
   "metadata": {},
   "outputs": [
    {
     "data": {
      "text/plain": [
       "[(0,)]"
      ]
     },
     "execution_count": 9,
     "metadata": {},
     "output_type": "execute_result"
    }
   ],
   "source": [
    "engine.execute(\"SELECT count(*) FROM sqladb WHERE [education] = ' PhD'\").fetchall() # to verify that the records don't exist anymore"
   ]
  },
  {
   "cell_type": "code",
   "execution_count": 10,
   "metadata": {},
   "outputs": [
    {
     "data": {
      "text/plain": [
       "[(160, 68, ' ?', 38317, ' 1st-4th', 2, ' Divorced', ' ?', ' Not-in-family', ' White', ' Female', 0, 0, 20, ' United-States', ' <=50K'),\n",
       " (221, 64, ' ?', 187656, ' 1st-4th', 2, ' Divorced', ' ?', ' Not-in-family', ' White', ' Male', 0, 0, 40, ' United-States', ' <=50K'),\n",
       " (416, 52, ' Private', 190762, ' 1st-4th', 2, ' Married-civ-spouse', ' Machine-op-inspct', ' Husband', ' White', ' Male', 0, 0, 40, ' Mexico', ' <=50K'),\n",
       " (463, 50, ' Private', 193374, ' 1st-4th', 2, ' Married-spouse-absent', ' Craft-repair', ' Unmarried', ' White', ' Male', 0, 0, 40, ' United-States', ' <=50K'),\n",
       " (486, 63, ' ?', 401531, ' 1st-4th', 2, ' Married-civ-spouse', ' ?', ' Husband', ' White', ' Male', 0, 0, 35, ' United-States', ' <=50K'),\n",
       " (536, 57, ' Private', 190942, ' 1st-4th', 2, ' Widowed', ' Priv-house-serv', ' Not-in-family', ' Black', ' Female', 0, 0, 30, ' United-States', ' <=50K'),\n",
       " (929, 33, ' Private', 373662, ' 1st-4th', 2, ' Married-spouse-absent', ' Priv-house-serv', ' Not-in-family', ' White', ' Female', 0, 0, 40, ' Guatemala', ' <=50K'),\n",
       " (1139, 41, ' Private', 328447, ' 1st-4th', 2, ' Married-civ-spouse', ' Craft-repair', ' Husband', ' White', ' Male', 0, 0, 35, ' Mexico', ' <=50K'),\n",
       " (1291, 63, ' Self-emp-not-inc', 795830, ' 1st-4th', 2, ' Widowed', ' Other-service', ' Unmarried', ' White', ' Female', 0, 0, 30, ' El-Salvador', ' <=50K'),\n",
       " (1634, 37, ' Private', 405723, ' 1st-4th', 2, ' Married-civ-spouse', ' Machine-op-inspct', ' Husband', ' White', ' Male', 0, 0, 40, ' Mexico', ' <=50K')]"
      ]
     },
     "execution_count": 10,
     "metadata": {},
     "output_type": "execute_result"
    }
   ],
   "source": [
    "#4. Write two filter queries\n",
    "\n",
    "# a simple variation of filtering out certain specific records in the 'education' column\n",
    "engine.execute(\"SELECT * FROM sqladb WHERE [education] = ' 1st-4th' LIMIT 10\").fetchall()"
   ]
  },
  {
   "cell_type": "code",
   "execution_count": 12,
   "metadata": {},
   "outputs": [
    {
     "data": {
      "text/plain": [
       "[(160, 68, ' ?', 38317, ' 1st-4th', 2, ' Divorced', ' ?', ' Not-in-family', ' White', ' Female', 0, 0, 20, ' United-States', ' <=50K'),\n",
       " (536, 57, ' Private', 190942, ' 1st-4th', 2, ' Widowed', ' Priv-house-serv', ' Not-in-family', ' Black', ' Female', 0, 0, 30, ' United-States', ' <=50K'),\n",
       " (929, 33, ' Private', 373662, ' 1st-4th', 2, ' Married-spouse-absent', ' Priv-house-serv', ' Not-in-family', ' White', ' Female', 0, 0, 40, ' Guatemala', ' <=50K'),\n",
       " (1291, 63, ' Self-emp-not-inc', 795830, ' 1st-4th', 2, ' Widowed', ' Other-service', ' Unmarried', ' White', ' Female', 0, 0, 30, ' El-Salvador', ' <=50K'),\n",
       " (2581, 40, ' Private', 153799, ' 1st-4th', 2, ' Married-spouse-absent', ' Machine-op-inspct', ' Unmarried', ' White', ' Female', 0, 0, 40, ' Dominican-Republic', ' <=50K'),\n",
       " (2861, 44, ' Private', 367749, ' 1st-4th', 2, ' Never-married', ' Machine-op-inspct', ' Not-in-family', ' White', ' Female', 0, 0, 40, ' El-Salvador', ' <=50K'),\n",
       " (4718, 46, ' Private', 308334, ' 1st-4th', 2, ' Widowed', ' Other-service', ' Unmarried', ' Other', ' Female', 0, 0, 30, ' Mexico', ' <=50K'),\n",
       " (5842, 25, ' Private', 195994, ' 1st-4th', 2, ' Never-married', ' Priv-house-serv', ' Not-in-family', ' White', ' Female', 0, 0, 40, ' Guatemala', ' <=50K'),\n",
       " (7300, 50, ' Private', 92969, ' 1st-4th', 2, ' Separated', ' Prof-specialty', ' Unmarried', ' Black', ' Female', 0, 0, 40, ' United-States', ' <=50K'),\n",
       " (7319, 46, ' Private', 324601, ' 1st-4th', 2, ' Separated', ' Machine-op-inspct', ' Own-child', ' White', ' Female', 0, 0, 40, ' Guatemala', ' <=50K')]"
      ]
     },
     "execution_count": 12,
     "metadata": {},
     "output_type": "execute_result"
    }
   ],
   "source": [
    "# another variation of filtering out certain specific records in the 'education' column\n",
    "\n",
    "engine.execute(\"SELECT * FROM sqladb WHERE ([education] = ' 1st-4th' AND [sex] = ' Female')  LIMIT 10\").fetchall()"
   ]
  },
  {
   "cell_type": "code",
   "execution_count": 13,
   "metadata": {},
   "outputs": [
    {
     "data": {
      "text/plain": [
       "[(40.882799782962564, 17, 90, ' ?'),\n",
       " (36.96445623342175, 17, 90, ' Adm-clerical'),\n",
       " (30.22222222222222, 23, 46, ' Armed-Forces'),\n",
       " (39.03147109050988, 17, 90, ' Craft-repair'),\n",
       " (42.16920806689621, 17, 90, ' Exec-managerial'),\n",
       " (41.2112676056338, 17, 90, ' Farming-fishing'),\n",
       " (32.16569343065694, 17, 90, ' Handlers-cleaners'),\n",
       " (37.71528471528472, 17, 90, ' Machine-op-inspct'),\n",
       " (34.94962063732929, 17, 90, ' Other-service'),\n",
       " (41.7248322147651, 17, 81, ' Priv-house-serv'),\n",
       " (40.51763285024155, 17, 90, ' Prof-specialty'),\n",
       " (38.9537750385208, 17, 90, ' Protective-serv'),\n",
       " (37.353972602739724, 17, 90, ' Sales'),\n",
       " (37.022629310344826, 17, 73, ' Tech-support'),\n",
       " (40.19787100814026, 17, 90, ' Transport-moving')]"
      ]
     },
     "execution_count": 13,
     "metadata": {},
     "output_type": "execute_result"
    }
   ],
   "source": [
    "#5. Write two function queries\n",
    "\n",
    "# in-built functions such as average or min or max\n",
    "engine.execute(\"SELECT avg([age]), min([age]), max([age]), [occupation] FROM sqladb GROUP BY [occupation] \").fetchall()\n"
   ]
  },
  {
   "cell_type": "code",
   "execution_count": 14,
   "metadata": {},
   "outputs": [
    {
     "data": {
      "text/plain": [
       "[(73, ' ?'),\n",
       " (73, ' Adm-clerical'),\n",
       " (23, ' Armed-Forces'),\n",
       " (73, ' Craft-repair'),\n",
       " (73, ' Exec-managerial'),\n",
       " (73, ' Farming-fishing'),\n",
       " (73, ' Handlers-cleaners'),\n",
       " (73, ' Machine-op-inspct'),\n",
       " (73, ' Other-service'),\n",
       " (64, ' Priv-house-serv'),\n",
       " (73, ' Prof-specialty'),\n",
       " (73, ' Protective-serv'),\n",
       " (73, ' Sales'),\n",
       " (56, ' Tech-support'),\n",
       " (73, ' Transport-moving')]"
      ]
     },
     "execution_count": 14,
     "metadata": {},
     "output_type": "execute_result"
    }
   ],
   "source": [
    "# using a mathematical operation on some in-built functions\n",
    "\n",
    "engine.execute(\"SELECT (max ([age]) - min([age])) as range, [occupation] FROM sqladb GROUP BY [occupation] \").fetchall()\n"
   ]
  },
  {
   "cell_type": "code",
   "execution_count": null,
   "metadata": {},
   "outputs": [],
   "source": []
  }
 ],
 "metadata": {
  "kernelspec": {
   "display_name": "Python 3",
   "language": "python",
   "name": "python3"
  },
  "language_info": {
   "codemirror_mode": {
    "name": "ipython",
    "version": 3
   },
   "file_extension": ".py",
   "mimetype": "text/x-python",
   "name": "python",
   "nbconvert_exporter": "python",
   "pygments_lexer": "ipython3",
   "version": "3.6.1"
  }
 },
 "nbformat": 4,
 "nbformat_minor": 2
}
